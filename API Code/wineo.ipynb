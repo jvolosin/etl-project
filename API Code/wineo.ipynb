{
 "cells": [
  {
   "cell_type": "code",
   "execution_count": null,
   "metadata": {},
   "outputs": [],
   "source": [
    "# Dependencies\n",
    "import pandas as pd\n",
    "import numpy as np\n",
    "import requests\n",
    "import json\n",
    "from api_keys import dsd_api"
   ]
  },
  {
   "cell_type": "code",
   "execution_count": null,
   "metadata": {},
   "outputs": [],
   "source": [
    "api_account_name = \"WilliamRoll\"\n",
    "base_url = \"https://dsdlink.com/aspx1/API?\"\n",
    "parameters = {}\n",
    "\n",
    "query_url = f\"{base_url}_ProductMasterData&APIToken={api_account_name}_ProductMasterData&APIToken={dsd_api}&Parameters=F:DSDLinkMasterProductID~V:702051~O:E&Format=CSV\n",
    "APICommand={api_account_name}_ProductMasterData&APIToken={dsd_api}&Parameters=F:DSDLinkMasterProductID~V:702051~O:E&"
   ]
  }
 ],
 "metadata": {
  "kernelspec": {
   "display_name": "Python 3",
   "language": "python",
   "name": "python3"
  },
  "language_info": {
   "codemirror_mode": {
    "name": "ipython",
    "version": 3
   },
   "file_extension": ".py",
   "mimetype": "text/x-python",
   "name": "python",
   "nbconvert_exporter": "python",
   "pygments_lexer": "ipython3",
   "version": "3.6.10"
  }
 },
 "nbformat": 4,
 "nbformat_minor": 4
}
