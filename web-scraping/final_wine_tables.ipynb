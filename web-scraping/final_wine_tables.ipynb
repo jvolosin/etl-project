{
 "cells": [
  {
   "cell_type": "code",
   "execution_count": 1,
   "metadata": {},
   "outputs": [],
   "source": [
    "# Dependencies and Setup\n",
    "import pandas as pd\n",
    "import numpy as np"
   ]
  },
  {
   "cell_type": "code",
   "execution_count": 2,
   "metadata": {},
   "outputs": [],
   "source": [
    "# File to Load (Remember to Change These)\n",
    "wine_data_file = \"Resources/wine-data.csv\"\n",
    "# File to Load (Remember to Change These)\n",
    "wine_production_file = \"Resources/wine-production.csv\"\n",
    "# File to Load (Remember to Change These)\n",
    "wine_consumption_file= \"Resources/wine-consumption.csv\"\n",
    "# File to Load (Remember to Change These)\n",
    "world_temperature_file= \"Resources/world_temperature.csv\""
   ]
  },
  {
   "cell_type": "code",
   "execution_count": 3,
   "metadata": {
    "scrolled": true
   },
   "outputs": [
    {
     "data": {
      "text/html": [
       "<div>\n",
       "<style scoped>\n",
       "    .dataframe tbody tr th:only-of-type {\n",
       "        vertical-align: middle;\n",
       "    }\n",
       "\n",
       "    .dataframe tbody tr th {\n",
       "        vertical-align: top;\n",
       "    }\n",
       "\n",
       "    .dataframe thead th {\n",
       "        text-align: right;\n",
       "    }\n",
       "</style>\n",
       "<table border=\"1\" class=\"dataframe\">\n",
       "  <thead>\n",
       "    <tr style=\"text-align: right;\">\n",
       "      <th></th>\n",
       "      <th>Country</th>\n",
       "      <th>Average yearly temperature (1961–1990, degrees Celsius)</th>\n",
       "    </tr>\n",
       "  </thead>\n",
       "  <tbody>\n",
       "    <tr>\n",
       "      <th>0</th>\n",
       "      <td>Burkina Faso</td>\n",
       "      <td>28.29</td>\n",
       "    </tr>\n",
       "    <tr>\n",
       "      <th>1</th>\n",
       "      <td>Mali</td>\n",
       "      <td>28.25</td>\n",
       "    </tr>\n",
       "    <tr>\n",
       "      <th>2</th>\n",
       "      <td>Kiribati</td>\n",
       "      <td>28.20</td>\n",
       "    </tr>\n",
       "    <tr>\n",
       "      <th>3</th>\n",
       "      <td>Djibouti</td>\n",
       "      <td>28.00</td>\n",
       "    </tr>\n",
       "    <tr>\n",
       "      <th>4</th>\n",
       "      <td>Tuvalu</td>\n",
       "      <td>28.00</td>\n",
       "    </tr>\n",
       "    <tr>\n",
       "      <th>...</th>\n",
       "      <td>...</td>\n",
       "      <td>...</td>\n",
       "    </tr>\n",
       "    <tr>\n",
       "      <th>186</th>\n",
       "      <td>Kyrgyzstan</td>\n",
       "      <td>01.55</td>\n",
       "    </tr>\n",
       "    <tr>\n",
       "      <th>187</th>\n",
       "      <td>Norway</td>\n",
       "      <td>01.50</td>\n",
       "    </tr>\n",
       "    <tr>\n",
       "      <th>188</th>\n",
       "      <td>Mongolia</td>\n",
       "      <td>−0.70</td>\n",
       "    </tr>\n",
       "    <tr>\n",
       "      <th>189</th>\n",
       "      <td>Russia</td>\n",
       "      <td>−5.10</td>\n",
       "    </tr>\n",
       "    <tr>\n",
       "      <th>190</th>\n",
       "      <td>Canada</td>\n",
       "      <td>−5.35</td>\n",
       "    </tr>\n",
       "  </tbody>\n",
       "</table>\n",
       "<p>191 rows × 2 columns</p>\n",
       "</div>"
      ],
      "text/plain": [
       "          Country Average yearly temperature (1961–1990, degrees Celsius)\n",
       "0    Burkina Faso                                              28.29     \n",
       "1            Mali                                              28.25     \n",
       "2        Kiribati                                              28.20     \n",
       "3        Djibouti                                              28.00     \n",
       "4          Tuvalu                                              28.00     \n",
       "..            ...                                                ...     \n",
       "186    Kyrgyzstan                                              01.55     \n",
       "187        Norway                                              01.50     \n",
       "188      Mongolia                                              −0.70     \n",
       "189        Russia                                              −5.10     \n",
       "190        Canada                                              −5.35     \n",
       "\n",
       "[191 rows x 2 columns]"
      ]
     },
     "execution_count": 3,
     "metadata": {},
     "output_type": "execute_result"
    }
   ],
   "source": [
    "data_df = pd.read_csv(wine_data_file)\n",
    "data_df\n",
    "production_df = pd.read_csv(wine_production_file)\n",
    "production_df \n",
    "consumption_df = pd.read_csv(wine_consumption_file)\n",
    "consumption_df\n",
    "temperature_df = pd.read_csv(world_temperature_file)\n",
    "temperature_df"
   ]
  },
  {
   "cell_type": "code",
   "execution_count": 4,
   "metadata": {},
   "outputs": [
    {
     "data": {
      "text/html": [
       "<div>\n",
       "<style scoped>\n",
       "    .dataframe tbody tr th:only-of-type {\n",
       "        vertical-align: middle;\n",
       "    }\n",
       "\n",
       "    .dataframe tbody tr th {\n",
       "        vertical-align: top;\n",
       "    }\n",
       "\n",
       "    .dataframe thead th {\n",
       "        text-align: right;\n",
       "    }\n",
       "</style>\n",
       "<table border=\"1\" class=\"dataframe\">\n",
       "  <thead>\n",
       "    <tr style=\"text-align: right;\">\n",
       "      <th></th>\n",
       "      <th>Unnamed: 0</th>\n",
       "      <th>country</th>\n",
       "      <th>description</th>\n",
       "      <th>designation</th>\n",
       "      <th>points</th>\n",
       "      <th>price</th>\n",
       "      <th>province</th>\n",
       "      <th>region_1</th>\n",
       "      <th>region_2</th>\n",
       "      <th>variety</th>\n",
       "      <th>winery</th>\n",
       "    </tr>\n",
       "  </thead>\n",
       "  <tbody>\n",
       "    <tr>\n",
       "      <th>0</th>\n",
       "      <td>0</td>\n",
       "      <td>US</td>\n",
       "      <td>This tremendous 100% varietal wine hails from ...</td>\n",
       "      <td>Martha's Vineyard</td>\n",
       "      <td>96</td>\n",
       "      <td>235.0</td>\n",
       "      <td>California</td>\n",
       "      <td>Napa Valley</td>\n",
       "      <td>Napa</td>\n",
       "      <td>Cabernet Sauvignon</td>\n",
       "      <td>Heitz</td>\n",
       "    </tr>\n",
       "    <tr>\n",
       "      <th>1</th>\n",
       "      <td>1</td>\n",
       "      <td>Spain</td>\n",
       "      <td>Ripe aromas of fig, blackberry and cassis are ...</td>\n",
       "      <td>Carodorum Selección Especial Reserva</td>\n",
       "      <td>96</td>\n",
       "      <td>110.0</td>\n",
       "      <td>Northern Spain</td>\n",
       "      <td>Toro</td>\n",
       "      <td>NaN</td>\n",
       "      <td>Tinta de Toro</td>\n",
       "      <td>Bodega Carmen Rodríguez</td>\n",
       "    </tr>\n",
       "    <tr>\n",
       "      <th>2</th>\n",
       "      <td>2</td>\n",
       "      <td>US</td>\n",
       "      <td>Mac Watson honors the memory of a wine once ma...</td>\n",
       "      <td>Special Selected Late Harvest</td>\n",
       "      <td>96</td>\n",
       "      <td>90.0</td>\n",
       "      <td>California</td>\n",
       "      <td>Knights Valley</td>\n",
       "      <td>Sonoma</td>\n",
       "      <td>Sauvignon Blanc</td>\n",
       "      <td>Macauley</td>\n",
       "    </tr>\n",
       "    <tr>\n",
       "      <th>3</th>\n",
       "      <td>3</td>\n",
       "      <td>US</td>\n",
       "      <td>This spent 20 months in 30% new French oak, an...</td>\n",
       "      <td>Reserve</td>\n",
       "      <td>96</td>\n",
       "      <td>65.0</td>\n",
       "      <td>Oregon</td>\n",
       "      <td>Willamette Valley</td>\n",
       "      <td>Willamette Valley</td>\n",
       "      <td>Pinot Noir</td>\n",
       "      <td>Ponzi</td>\n",
       "    </tr>\n",
       "    <tr>\n",
       "      <th>4</th>\n",
       "      <td>4</td>\n",
       "      <td>France</td>\n",
       "      <td>This is the top wine from La Bégude, named aft...</td>\n",
       "      <td>La Brûlade</td>\n",
       "      <td>95</td>\n",
       "      <td>66.0</td>\n",
       "      <td>Provence</td>\n",
       "      <td>Bandol</td>\n",
       "      <td>NaN</td>\n",
       "      <td>Provence red blend</td>\n",
       "      <td>Domaine de la Bégude</td>\n",
       "    </tr>\n",
       "  </tbody>\n",
       "</table>\n",
       "</div>"
      ],
      "text/plain": [
       "   Unnamed: 0 country                                        description  \\\n",
       "0           0      US  This tremendous 100% varietal wine hails from ...   \n",
       "1           1   Spain  Ripe aromas of fig, blackberry and cassis are ...   \n",
       "2           2      US  Mac Watson honors the memory of a wine once ma...   \n",
       "3           3      US  This spent 20 months in 30% new French oak, an...   \n",
       "4           4  France  This is the top wine from La Bégude, named aft...   \n",
       "\n",
       "                            designation  points  price        province  \\\n",
       "0                     Martha's Vineyard      96  235.0      California   \n",
       "1  Carodorum Selección Especial Reserva      96  110.0  Northern Spain   \n",
       "2         Special Selected Late Harvest      96   90.0      California   \n",
       "3                               Reserve      96   65.0          Oregon   \n",
       "4                            La Brûlade      95   66.0        Provence   \n",
       "\n",
       "            region_1           region_2             variety  \\\n",
       "0        Napa Valley               Napa  Cabernet Sauvignon   \n",
       "1               Toro                NaN       Tinta de Toro   \n",
       "2     Knights Valley             Sonoma     Sauvignon Blanc   \n",
       "3  Willamette Valley  Willamette Valley          Pinot Noir   \n",
       "4             Bandol                NaN  Provence red blend   \n",
       "\n",
       "                    winery  \n",
       "0                    Heitz  \n",
       "1  Bodega Carmen Rodríguez  \n",
       "2                 Macauley  \n",
       "3                    Ponzi  \n",
       "4     Domaine de la Bégude  "
      ]
     },
     "execution_count": 4,
     "metadata": {},
     "output_type": "execute_result"
    }
   ],
   "source": [
    "data_df.head()"
   ]
  },
  {
   "cell_type": "code",
   "execution_count": 9,
   "metadata": {},
   "outputs": [
    {
     "data": {
      "text/plain": [
       "Unnamed: 0                                                135696\n",
       "country                                                      NaN\n",
       "description    From first sniff to last, the nose never makes...\n",
       "designation                                         Piedra Feliz\n",
       "points                                                        81\n",
       "price                                                         15\n",
       "province                                                     NaN\n",
       "region_1                                                     NaN\n",
       "region_2                                                     NaN\n",
       "variety                                               Pinot Noir\n",
       "winery                                                   Chilcas\n",
       "Name: 135696, dtype: object"
      ]
     },
     "execution_count": 9,
     "metadata": {},
     "output_type": "execute_result"
    }
   ],
   "source": [
    "# check to see how values for values that \n",
    "data_df.iloc[135696]"
   ]
  },
  {
   "cell_type": "code",
   "execution_count": 12,
   "metadata": {},
   "outputs": [
    {
     "data": {
      "text/html": [
       "<div>\n",
       "<style scoped>\n",
       "    .dataframe tbody tr th:only-of-type {\n",
       "        vertical-align: middle;\n",
       "    }\n",
       "\n",
       "    .dataframe tbody tr th {\n",
       "        vertical-align: top;\n",
       "    }\n",
       "\n",
       "    .dataframe thead th {\n",
       "        text-align: right;\n",
       "    }\n",
       "</style>\n",
       "<table border=\"1\" class=\"dataframe\">\n",
       "  <thead>\n",
       "    <tr style=\"text-align: right;\">\n",
       "      <th></th>\n",
       "      <th>Unnamed: 0</th>\n",
       "      <th>country</th>\n",
       "      <th>description</th>\n",
       "      <th>designation</th>\n",
       "      <th>points</th>\n",
       "      <th>price</th>\n",
       "      <th>province</th>\n",
       "      <th>region_1</th>\n",
       "      <th>region_2</th>\n",
       "      <th>variety</th>\n",
       "      <th>winery</th>\n",
       "    </tr>\n",
       "  </thead>\n",
       "  <tbody>\n",
       "    <tr>\n",
       "      <th>1133</th>\n",
       "      <td>1133</td>\n",
       "      <td>NaN</td>\n",
       "      <td>Delicate white flowers and a spin of lemon pee...</td>\n",
       "      <td>Askitikos</td>\n",
       "      <td>90</td>\n",
       "      <td>17.0</td>\n",
       "      <td>NaN</td>\n",
       "      <td>NaN</td>\n",
       "      <td>NaN</td>\n",
       "      <td>Assyrtiko</td>\n",
       "      <td>Tsililis</td>\n",
       "    </tr>\n",
       "    <tr>\n",
       "      <th>1440</th>\n",
       "      <td>1440</td>\n",
       "      <td>NaN</td>\n",
       "      <td>A blend of 60% Syrah, 30% Cabernet Sauvignon a...</td>\n",
       "      <td>Shah</td>\n",
       "      <td>90</td>\n",
       "      <td>30.0</td>\n",
       "      <td>NaN</td>\n",
       "      <td>NaN</td>\n",
       "      <td>NaN</td>\n",
       "      <td>Red Blend</td>\n",
       "      <td>Büyülübağ</td>\n",
       "    </tr>\n",
       "    <tr>\n",
       "      <th>68226</th>\n",
       "      <td>68226</td>\n",
       "      <td>NaN</td>\n",
       "      <td>From first sniff to last, the nose never makes...</td>\n",
       "      <td>Piedra Feliz</td>\n",
       "      <td>81</td>\n",
       "      <td>15.0</td>\n",
       "      <td>NaN</td>\n",
       "      <td>NaN</td>\n",
       "      <td>NaN</td>\n",
       "      <td>Pinot Noir</td>\n",
       "      <td>Chilcas</td>\n",
       "    </tr>\n",
       "    <tr>\n",
       "      <th>113016</th>\n",
       "      <td>113016</td>\n",
       "      <td>NaN</td>\n",
       "      <td>From first sniff to last, the nose never makes...</td>\n",
       "      <td>Piedra Feliz</td>\n",
       "      <td>81</td>\n",
       "      <td>15.0</td>\n",
       "      <td>NaN</td>\n",
       "      <td>NaN</td>\n",
       "      <td>NaN</td>\n",
       "      <td>Pinot Noir</td>\n",
       "      <td>Chilcas</td>\n",
       "    </tr>\n",
       "    <tr>\n",
       "      <th>135696</th>\n",
       "      <td>135696</td>\n",
       "      <td>NaN</td>\n",
       "      <td>From first sniff to last, the nose never makes...</td>\n",
       "      <td>Piedra Feliz</td>\n",
       "      <td>81</td>\n",
       "      <td>15.0</td>\n",
       "      <td>NaN</td>\n",
       "      <td>NaN</td>\n",
       "      <td>NaN</td>\n",
       "      <td>Pinot Noir</td>\n",
       "      <td>Chilcas</td>\n",
       "    </tr>\n",
       "  </tbody>\n",
       "</table>\n",
       "</div>"
      ],
      "text/plain": [
       "        Unnamed: 0 country                                        description  \\\n",
       "1133          1133     NaN  Delicate white flowers and a spin of lemon pee...   \n",
       "1440          1440     NaN  A blend of 60% Syrah, 30% Cabernet Sauvignon a...   \n",
       "68226        68226     NaN  From first sniff to last, the nose never makes...   \n",
       "113016      113016     NaN  From first sniff to last, the nose never makes...   \n",
       "135696      135696     NaN  From first sniff to last, the nose never makes...   \n",
       "\n",
       "         designation  points  price province region_1 region_2     variety  \\\n",
       "1133       Askitikos      90   17.0      NaN      NaN      NaN   Assyrtiko   \n",
       "1440            Shah      90   30.0      NaN      NaN      NaN   Red Blend   \n",
       "68226   Piedra Feliz      81   15.0      NaN      NaN      NaN  Pinot Noir   \n",
       "113016  Piedra Feliz      81   15.0      NaN      NaN      NaN  Pinot Noir   \n",
       "135696  Piedra Feliz      81   15.0      NaN      NaN      NaN  Pinot Noir   \n",
       "\n",
       "           winery  \n",
       "1133     Tsililis  \n",
       "1440    Büyülübağ  \n",
       "68226     Chilcas  \n",
       "113016    Chilcas  \n",
       "135696    Chilcas  "
      ]
     },
     "execution_count": 12,
     "metadata": {},
     "output_type": "execute_result"
    }
   ],
   "source": [
    "# print (data_df[\"designation\"].isnull())\n",
    "\n",
    "#   [data_df[\"country\"] == \"\"]\n",
    "\n",
    "##check for null values \n",
    "# data_df[data_df[\"country\"].isna()]\n",
    "data_df[data_df[\"country\"].isnull()]"
   ]
  },
  {
   "cell_type": "code",
   "execution_count": 13,
   "metadata": {},
   "outputs": [
    {
     "data": {
      "text/plain": [
       "0         False\n",
       "1         False\n",
       "2         False\n",
       "3         False\n",
       "4         False\n",
       "          ...  \n",
       "150925    False\n",
       "150926    False\n",
       "150927    False\n",
       "150928    False\n",
       "150929    False\n",
       "Name: country, Length: 150930, dtype: bool"
      ]
     },
     "execution_count": 13,
     "metadata": {},
     "output_type": "execute_result"
    }
   ],
   "source": [
    "## gives all countries and whether it's true or false for NaN.  \n",
    "data_df[\"country\"].isnull()"
   ]
  },
  {
   "cell_type": "code",
   "execution_count": null,
   "metadata": {},
   "outputs": [],
   "source": []
  },
  {
   "cell_type": "code",
   "execution_count": 18,
   "metadata": {},
   "outputs": [],
   "source": [
    "data_df.dropna(subset = [\"country\"], inplace=True)\n",
    "data_df.head()"
   ]
  },
  {
   "cell_type": "code",
   "execution_count": 20,
   "metadata": {},
   "outputs": [
    {
     "data": {
      "text/html": [
       "<div>\n",
       "<style scoped>\n",
       "    .dataframe tbody tr th:only-of-type {\n",
       "        vertical-align: middle;\n",
       "    }\n",
       "\n",
       "    .dataframe tbody tr th {\n",
       "        vertical-align: top;\n",
       "    }\n",
       "\n",
       "    .dataframe thead th {\n",
       "        text-align: right;\n",
       "    }\n",
       "</style>\n",
       "<table border=\"1\" class=\"dataframe\">\n",
       "  <thead>\n",
       "    <tr style=\"text-align: right;\">\n",
       "      <th></th>\n",
       "      <th>Unnamed: 0</th>\n",
       "      <th>country</th>\n",
       "      <th>description</th>\n",
       "      <th>designation</th>\n",
       "      <th>points</th>\n",
       "      <th>price</th>\n",
       "      <th>province</th>\n",
       "      <th>region_1</th>\n",
       "      <th>region_2</th>\n",
       "      <th>variety</th>\n",
       "      <th>winery</th>\n",
       "    </tr>\n",
       "  </thead>\n",
       "  <tbody>\n",
       "  </tbody>\n",
       "</table>\n",
       "</div>"
      ],
      "text/plain": [
       "Empty DataFrame\n",
       "Columns: [Unnamed: 0, country, description, designation, points, price, province, region_1, region_2, variety, winery]\n",
       "Index: []"
      ]
     },
     "execution_count": 20,
     "metadata": {},
     "output_type": "execute_result"
    }
   ],
   "source": [
    "## recheck for null valuse\n",
    "data_df[data_df[\"country\"].isnull()]"
   ]
  },
  {
   "cell_type": "code",
   "execution_count": 19,
   "metadata": {},
   "outputs": [],
   "source": [
    "# ## make copy of dataframe to use in further data reduction\n",
    "# data_init = data_df.copy()\n",
    "# data_init.head()"
   ]
  },
  {
   "cell_type": "code",
   "execution_count": null,
   "metadata": {},
   "outputs": [],
   "source": [
    "# regions = regions_init.drop(columns=[\"country\", \"description\", 'designation', 'points', \n",
    "#                                      'price','region_2', 'variety', 'winery'])\n",
    "# regions.head()\n"
   ]
  },
  {
   "cell_type": "code",
   "execution_count": null,
   "metadata": {},
   "outputs": [],
   "source": [
    "## create tables from data_init_df dataframe (wine-data csv)\n",
    "regions = data_df[[\"province\",\"region_1\"]]\n",
    "regions.head()"
   ]
  },
  {
   "cell_type": "code",
   "execution_count": null,
   "metadata": {},
   "outputs": [],
   "source": [
    "## create tables from data_init_df dataframe (wine-data csv)\n",
    "region_US = data_df[[\"region_1\",\"region_2\"]]\n",
    "\n",
    "#rename region_1 to region_1_US\n",
    "##do this later"
   ]
  },
  {
   "cell_type": "code",
   "execution_count": null,
   "metadata": {},
   "outputs": [],
   "source": [
    "## create tables from data_init_df dataframe (wine-data csv)\n",
    "provinces = data_df[[\"country\", \"province\"]]"
   ]
  },
  {
   "cell_type": "code",
   "execution_count": null,
   "metadata": {},
   "outputs": [],
   "source": [
    "## create tables from data_init_df dataframe (wine-data csv)\n",
    "wine_data = data_df[[\"description\", \"designation\", \"points\", \"price\", \"province\", \"region_1\", \"region_2\", \n",
    "                       \"variety\", \"winery\"]]"
   ]
  },
  {
   "cell_type": "code",
   "execution_count": null,
   "metadata": {},
   "outputs": [],
   "source": [
    "#rename columns in consumption_df to match ERD\n",
    "consumption_df.rename(columns={\"Entity\": \"country\", \"Code\": \"country_code\",\n",
    "        \"Indicator:Alcohol, consumption of pure alcohol by type of beverage (%) - Beverage Types:Wine\": \"pct_wine_consumption\"\n",
    "                                         }, inplace=True)\n",
    "consumption_df.head()"
   ]
  },
  {
   "cell_type": "code",
   "execution_count": null,
   "metadata": {},
   "outputs": [],
   "source": [
    "# create tables from consumption_df (wine-consumption csv)\n",
    "countries = consumption_df[[\"country\", \"country_code\"]]"
   ]
  },
  {
   "cell_type": "code",
   "execution_count": null,
   "metadata": {},
   "outputs": [],
   "source": [
    "wine_consumption = consumption_df[[\"country\", \"pct_wine_consumption\"]]"
   ]
  },
  {
   "cell_type": "code",
   "execution_count": null,
   "metadata": {},
   "outputs": [],
   "source": [
    "#rename columns in production_df to match ERD\n",
    "production_df.rename(columns={\"country\": \"country\", \"wineProduction\": \"volume\", \"pop2020\":\"population\"\n",
    "                             }, inplace=True)"
   ]
  },
  {
   "cell_type": "code",
   "execution_count": null,
   "metadata": {},
   "outputs": [],
   "source": [
    "# create tables from production_df (wine-production csv)\n",
    "wine_production = production_df[[\"country\", \"volume\", \"population\"]]\n",
    "wine_production.head()"
   ]
  },
  {
   "cell_type": "code",
   "execution_count": null,
   "metadata": {},
   "outputs": [],
   "source": [
    "#rename columns in temperature_df to match ERD\n",
    "##    *** I DON'T KNOW WHY THIS DID NOT WORK. SAME CODE FORMAT WORKED FOR OTHER DF. SEE CELL BELOW***\n",
    "# temperature_df.rename(columns=\n",
    "#             {\"Country\": \"country\",\"Average yearly temperature (1961-1990, degrees Celsius)\" : \"avg_temp\"\n",
    "#             }, inplace=True)\n",
    "# temperature_df.head()"
   ]
  },
  {
   "cell_type": "code",
   "execution_count": null,
   "metadata": {},
   "outputs": [],
   "source": [
    "#rename columns in temperature_df to match ERD\n",
    "temperature_df.columns = [\"country\", \"avg_temp\"] \n",
    "temperature_df.head()"
   ]
  },
  {
   "cell_type": "code",
   "execution_count": null,
   "metadata": {},
   "outputs": [],
   "source": [
    "#create tables from temperature_df \n",
    "temperature = temperature_df[[\"country\", \"avg_temp\"]]\n",
    "temperature.head()"
   ]
  },
  {
   "cell_type": "code",
   "execution_count": null,
   "metadata": {},
   "outputs": [],
   "source": [
    "## use this format to export all tables to sql to leave off the index  \n",
    "#temperature.to_sql(\"tempature2.csv\", index=False)"
   ]
  },
  {
   "cell_type": "code",
   "execution_count": null,
   "metadata": {},
   "outputs": [],
   "source": [
    "## dataframe names / table names to work with: \n",
    "# regions\n",
    "# region_US\n",
    "# provinces\n",
    "# wine_data\n",
    "# countries\n",
    "# wine_consumption\n",
    "# wine_production\n",
    "# temperature"
   ]
  }
 ],
 "metadata": {
  "kernelspec": {
   "display_name": "Python 3",
   "language": "python",
   "name": "python3"
  },
  "language_info": {
   "codemirror_mode": {
    "name": "ipython",
    "version": 3
   },
   "file_extension": ".py",
   "mimetype": "text/x-python",
   "name": "python",
   "nbconvert_exporter": "python",
   "pygments_lexer": "ipython3",
   "version": "3.6.10"
  }
 },
 "nbformat": 4,
 "nbformat_minor": 4
}
