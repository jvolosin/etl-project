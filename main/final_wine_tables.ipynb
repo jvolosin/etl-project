{
 "cells": [
  {
   "cell_type": "code",
   "execution_count": 16,
   "metadata": {},
   "outputs": [],
   "source": [
    "# Dependencies and Setup\n",
    "import pandas as pd\n"
   ]
  },
  {
   "cell_type": "code",
   "execution_count": 23,
   "metadata": {},
   "outputs": [],
   "source": [
    "# File to Load (Remember to Change These)\n",
    "wine_data_file = \"Resources/wine-data.csv\"\n",
    "# File to Load (Remember to Change These)\n",
    "wine_production_file = \"Resources/wine-production.csv\"\n",
    "# File to Load (Remember to Change These)\n",
    "wine_consumption_file= \"Resources/wine-consumption.csv\"\n",
    "# File to Load (Remember to Change These)\n",
    "world_temperature_file= \"Resources/world_temperature.csv\""
   ]
  },
  {
   "cell_type": "code",
   "execution_count": 24,
   "metadata": {},
   "outputs": [
    {
     "data": {
      "text/html": [
       "<div>\n",
       "<style scoped>\n",
       "    .dataframe tbody tr th:only-of-type {\n",
       "        vertical-align: middle;\n",
       "    }\n",
       "\n",
       "    .dataframe tbody tr th {\n",
       "        vertical-align: top;\n",
       "    }\n",
       "\n",
       "    .dataframe thead th {\n",
       "        text-align: right;\n",
       "    }\n",
       "</style>\n",
       "<table border=\"1\" class=\"dataframe\">\n",
       "  <thead>\n",
       "    <tr style=\"text-align: right;\">\n",
       "      <th></th>\n",
       "      <th>Country</th>\n",
       "      <th>Average yearly temperature (1961–1990, degrees Celsius)</th>\n",
       "    </tr>\n",
       "  </thead>\n",
       "  <tbody>\n",
       "    <tr>\n",
       "      <th>0</th>\n",
       "      <td>Burkina Faso</td>\n",
       "      <td>28.29</td>\n",
       "    </tr>\n",
       "    <tr>\n",
       "      <th>1</th>\n",
       "      <td>Mali</td>\n",
       "      <td>28.25</td>\n",
       "    </tr>\n",
       "    <tr>\n",
       "      <th>2</th>\n",
       "      <td>Kiribati</td>\n",
       "      <td>28.20</td>\n",
       "    </tr>\n",
       "    <tr>\n",
       "      <th>3</th>\n",
       "      <td>Djibouti</td>\n",
       "      <td>28.00</td>\n",
       "    </tr>\n",
       "    <tr>\n",
       "      <th>4</th>\n",
       "      <td>Tuvalu</td>\n",
       "      <td>28.00</td>\n",
       "    </tr>\n",
       "    <tr>\n",
       "      <th>...</th>\n",
       "      <td>...</td>\n",
       "      <td>...</td>\n",
       "    </tr>\n",
       "    <tr>\n",
       "      <th>186</th>\n",
       "      <td>Kyrgyzstan</td>\n",
       "      <td>01.55</td>\n",
       "    </tr>\n",
       "    <tr>\n",
       "      <th>187</th>\n",
       "      <td>Norway</td>\n",
       "      <td>01.50</td>\n",
       "    </tr>\n",
       "    <tr>\n",
       "      <th>188</th>\n",
       "      <td>Mongolia</td>\n",
       "      <td>−0.70</td>\n",
       "    </tr>\n",
       "    <tr>\n",
       "      <th>189</th>\n",
       "      <td>Russia</td>\n",
       "      <td>−5.10</td>\n",
       "    </tr>\n",
       "    <tr>\n",
       "      <th>190</th>\n",
       "      <td>Canada</td>\n",
       "      <td>−5.35</td>\n",
       "    </tr>\n",
       "  </tbody>\n",
       "</table>\n",
       "<p>191 rows × 2 columns</p>\n",
       "</div>"
      ],
      "text/plain": [
       "          Country Average yearly temperature (1961–1990, degrees Celsius)\n",
       "0    Burkina Faso                                              28.29     \n",
       "1            Mali                                              28.25     \n",
       "2        Kiribati                                              28.20     \n",
       "3        Djibouti                                              28.00     \n",
       "4          Tuvalu                                              28.00     \n",
       "..            ...                                                ...     \n",
       "186    Kyrgyzstan                                              01.55     \n",
       "187        Norway                                              01.50     \n",
       "188      Mongolia                                              −0.70     \n",
       "189        Russia                                              −5.10     \n",
       "190        Canada                                              −5.35     \n",
       "\n",
       "[191 rows x 2 columns]"
      ]
     },
     "execution_count": 24,
     "metadata": {},
     "output_type": "execute_result"
    }
   ],
   "source": [
    "data_df = pd.read_csv(wine_data_file)\n",
    "data_df\n",
    "production_df = pd.read_csv(wine_production_file)\n",
    "production_df \n",
    "consumption_df = pd.read_csv(wine_consumption_file)\n",
    "consumption_df\n",
    "temperature_df = pd.read_csv(world_temperature_file)\n",
    "temperature_df"
   ]
  }
 ],
 "metadata": {
  "kernelspec": {
   "display_name": "Python 3",
   "language": "python",
   "name": "python3"
  },
  "language_info": {
   "codemirror_mode": {
    "name": "ipython",
    "version": 3
   },
   "file_extension": ".py",
   "mimetype": "text/x-python",
   "name": "python",
   "nbconvert_exporter": "python",
   "pygments_lexer": "ipython3",
   "version": "3.8.3"
  }
 },
 "nbformat": 4,
 "nbformat_minor": 4
}
